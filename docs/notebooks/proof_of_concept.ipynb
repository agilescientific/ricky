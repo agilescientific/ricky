{
 "cells": [
  {
   "cell_type": "code",
   "execution_count": 1,
   "metadata": {},
   "outputs": [],
   "source": [
    "import ricky\n",
    "\n",
    "w = ricky.ricker(duration=0.128, dt=0.002, f=25)"
   ]
  },
  {
   "cell_type": "code",
   "execution_count": 2,
   "metadata": {},
   "outputs": [
    {
     "data": {
      "text/plain": [
       "[<matplotlib.lines.Line2D at 0x7f7b3d074190>]"
      ]
     },
     "execution_count": 2,
     "metadata": {},
     "output_type": "execute_result"
    },
    {
     "data": {
      "image/png": "[encoded data removed]",
      "text/plain": [
       "<Figure size 432x288 with 1 Axes>"
      ]
     },
     "metadata": {
      "needs_background": "light"
     },
     "output_type": "display_data"
    }
   ],
   "source": [
    "w.plot()"
   ]
  },
  {
   "cell_type": "code",
   "execution_count": 3,
   "metadata": {},
   "outputs": [
    {
     "data": {
      "text/html": [
       "<div>\n",
       "<style scoped>\n",
       "    .dataframe tbody tr th:only-of-type {\n",
       "        vertical-align: middle;\n",
       "    }\n",
       "\n",
       "    .dataframe tbody tr th {\n",
       "        vertical-align: top;\n",
       "    }\n",
       "\n",
       "    .dataframe thead th {\n",
       "        text-align: right;\n",
       "    }\n",
       "</style>\n",
       "<table border=\"1\" class=\"dataframe\">\n",
       "  <thead>\n",
       "    <tr style=\"text-align: right;\">\n",
       "      <th></th>\n",
       "      <th></th>\n",
       "      <th>amplitude</th>\n",
       "    </tr>\n",
       "    <tr>\n",
       "      <th>frequency</th>\n",
       "      <th>time</th>\n",
       "      <th></th>\n",
       "    </tr>\n",
       "  </thead>\n",
       "  <tbody>\n",
       "    <tr>\n",
       "      <th rowspan=\"11\" valign=\"top\">25</th>\n",
       "      <th>-0.064</th>\n",
       "      <td>-5.271369e-10</td>\n",
       "    </tr>\n",
       "    <tr>\n",
       "      <th>-0.062</th>\n",
       "      <td>-2.338117e-09</td>\n",
       "    </tr>\n",
       "    <tr>\n",
       "      <th>-0.060</th>\n",
       "      <td>-9.849493e-09</td>\n",
       "    </tr>\n",
       "    <tr>\n",
       "      <th>-0.058</th>\n",
       "      <td>-3.940002e-08</td>\n",
       "    </tr>\n",
       "    <tr>\n",
       "      <th>-0.056</th>\n",
       "      <td>-1.496360e-07</td>\n",
       "    </tr>\n",
       "    <tr>\n",
       "      <th>...</th>\n",
       "      <td>...</td>\n",
       "    </tr>\n",
       "    <tr>\n",
       "      <th>0.056</th>\n",
       "      <td>-1.496360e-07</td>\n",
       "    </tr>\n",
       "    <tr>\n",
       "      <th>0.058</th>\n",
       "      <td>-3.940002e-08</td>\n",
       "    </tr>\n",
       "    <tr>\n",
       "      <th>0.060</th>\n",
       "      <td>-9.849493e-09</td>\n",
       "    </tr>\n",
       "    <tr>\n",
       "      <th>0.062</th>\n",
       "      <td>-2.338117e-09</td>\n",
       "    </tr>\n",
       "    <tr>\n",
       "      <th>0.064</th>\n",
       "      <td>-5.271369e-10</td>\n",
       "    </tr>\n",
       "  </tbody>\n",
       "</table>\n",
       "<p>65 rows × 1 columns</p>\n",
       "</div>"
      ],
      "text/plain": [
       "                     amplitude\n",
       "frequency time                \n",
       "25        -0.064 -5.271369e-10\n",
       "          -0.062 -2.338117e-09\n",
       "          -0.060 -9.849493e-09\n",
       "          -0.058 -3.940002e-08\n",
       "          -0.056 -1.496360e-07\n",
       "...                        ...\n",
       "           0.056 -1.496360e-07\n",
       "           0.058 -3.940002e-08\n",
       "           0.060 -9.849493e-09\n",
       "           0.062 -2.338117e-09\n",
       "           0.064 -5.271369e-10\n",
       "\n",
       "[65 rows x 1 columns]"
      ]
     },
     "execution_count": 3,
     "metadata": {},
     "output_type": "execute_result"
    }
   ],
   "source": [
    "w.to_dataframe()"
   ]
  },
  {
   "cell_type": "code",
   "execution_count": 4,
   "metadata": {},
   "outputs": [
    {
     "data": {
      "text/plain": [
       "<AxesSubplot:title={'center':'ricker\\nf = 25 [Hz]'}, xlabel='amplitude', ylabel='time [s]'>"
      ]
     },
     "execution_count": 4,
     "metadata": {},
     "output_type": "execute_result"
    },
    {
     "data": {
      "image/png": "[encoded data removed]",
      "text/plain": [
       "<Figure size 108x288 with 1 Axes>"
      ]
     },
     "metadata": {
      "needs_background": "light"
     },
     "output_type": "display_data"
    }
   ],
   "source": [
    "w.ricky.wiggle()"
   ]
  },
  {
   "cell_type": "code",
   "execution_count": null,
   "metadata": {},
   "outputs": [],
   "source": []
  }
 ],
 "metadata": {
  "interpreter": {
   "hash": "e5ade94894d61671f0cc73f2a119d0d111a8144972a943fa68a7bf67d49500c9"
  },
  "kernelspec": {
   "display_name": "Python 3.9.7 ('bruges')",
   "language": "python",
   "name": "python3"
  },
  "language_info": {
   "codemirror_mode": {
    "name": "ipython",
    "version": 3
   },
   "file_extension": ".py",
   "mimetype": "text/x-python",
   "name": "python",
   "nbconvert_exporter": "python",
   "pygments_lexer": "ipython3",
   "version": "3.9.7"
  },
  "orig_nbformat": 4
 },
 "nbformat": 4,
 "nbformat_minor": 2
}
